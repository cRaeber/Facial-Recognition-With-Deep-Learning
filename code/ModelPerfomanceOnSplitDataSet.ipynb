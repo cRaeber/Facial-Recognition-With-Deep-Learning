{
  "nbformat": 4,
  "nbformat_minor": 0,
  "metadata": {
    "colab": {
      "name": "ModelPerfomanceOnSplitDataSet.ipynb",
      "provenance": [],
      "machine_shape": "hm",
      "authorship_tag": "ABX9TyMTZRoVVr1QjYucPBt9xtMS",
      "include_colab_link": true
    },
    "kernelspec": {
      "name": "python3",
      "display_name": "Python 3"
    },
    "language_info": {
      "name": "python"
    },
    "accelerator": "GPU"
  },
  "cells": [
    {
      "cell_type": "markdown",
      "metadata": {
        "id": "view-in-github",
        "colab_type": "text"
      },
      "source": [
        "<a href=\"https://colab.research.google.com/github/cRaeber/FacialRecognitionWithDeepLearning/blob/main/code/ModelPerfomanceOnSplitDataSet.ipynb\" target=\"_parent\"><img src=\"https://colab.research.google.com/assets/colab-badge.svg\" alt=\"Open In Colab\"/></a>"
      ]
    },
    {
      "cell_type": "markdown",
      "source": [
        "## Imports and Data Upload"
      ],
      "metadata": {
        "id": "ofF3JW-vJUje"
      }
    },
    {
      "cell_type": "code",
      "execution_count": null,
      "metadata": {
        "id": "XHzSx2MdtPMF"
      },
      "outputs": [],
      "source": [
        "import numpy as np\n",
        "import seaborn as sns\n",
        "# from PIL import Image\n",
        "\n",
        "import matplotlib.pyplot as plt\n",
        "from matplotlib.pyplot import imshow\n",
        "from matplotlib import image\n",
        "\n",
        "import os\n",
        "from os import listdir\n",
        "import zipfile\n",
        "from google.colab import drive\n",
        "\n",
        "import tensorflow as tf\n",
        "import tensorflow_datasets as tfds\n",
        "from tensorflow import keras\n",
        "from keras import layers\n",
        "from keras.models import Sequential\n",
        "from keras.layers import Dense, Conv2D, Flatten\n",
        "from tensorflow.keras.utils import to_categorical\n",
        "from tensorflow.keras.layers import *\n",
        "from tensorflow.keras.models import *\n",
        "from tensorflow.keras.preprocessing.image import ImageDataGenerator\n",
        "from keras.callbacks import ModelCheckpoint\n",
        "\n",
        "from sklearn.metrics import accuracy_score, precision_score, recall_score, f1_score\n",
        "\n",
        "import random\n",
        "import glob\n",
        "import shutil"
      ]
    },
    {
      "cell_type": "markdown",
      "metadata": {
        "id": "GBRs-hmhkGi7"
      },
      "source": [
        "###Data Spliting"
      ]
    },
    {
      "cell_type": "code",
      "execution_count": null,
      "metadata": {
        "colab": {
          "base_uri": "https://localhost:8080/"
        },
        "id": "ILA-cSeYtUw8",
        "outputId": "4d355f09-4b52-46b1-9c95-4d97b22ac4b3"
      },
      "outputs": [
        {
          "output_type": "stream",
          "name": "stdout",
          "text": [
            "Mounted at /content/drive\n"
          ]
        }
      ],
      "source": [
        "drive.mount('/content/drive')"
      ]
    },
    {
      "cell_type": "code",
      "source": [
        "path = ['/tmp/Faces', '/tmp/Faces/Train', '/tmp/Faces/Val', '/tmp/Faces/Test',\n",
        "        '/tmp/Faces/Train/Me',    '/tmp/Faces/Val/Me',    '/tmp/Faces/Test/Me',\n",
        "        '/tmp/Faces/Train/NotMe', '/tmp/Faces/Val/NotMe', '/tmp/Faces/Test/NotMe']\n",
        "for p in path:\n",
        "  os.mkdir(p)"
      ],
      "metadata": {
        "id": "X-f4pyJAN5V6"
      },
      "execution_count": null,
      "outputs": []
    },
    {
      "cell_type": "code",
      "source": [
        "!rm -rf '/tmp/Faces'"
      ],
      "metadata": {
        "id": "9ulbOPVaFF43"
      },
      "execution_count": null,
      "outputs": []
    },
    {
      "cell_type": "markdown",
      "source": [
        "Will only be run once then downloaded for reusability. Shuffle the data then split into:\n",
        "\n",
        " 70% Training\n",
        "\n",
        " 20% Validation\n",
        "\n",
        " 10% Test"
      ],
      "metadata": {
        "id": "R9_Vw-qFQVYC"
      }
    },
    {
      "cell_type": "code",
      "source": [
        "path = '/content/drive/MyDrive/GradSchool/DeepLearning/Project/Take2/Faces/'\n",
        "face = []\n",
        "for picture in listdir(path + 'Me'):\n",
        "  img = (path + 'Me/' + picture)\n",
        "  face.append(img)\n",
        "random.shuffle(face)\n",
        "i = 0\n",
        "for pic in face:\n",
        "  if i < (len(face) * 0.7):\n",
        "    shutil.move(face[i], '/tmp/Faces/Train/Me')\n",
        "  elif i < (len(face)* 0.9):\n",
        "    shutil.move(face[i], '/tmp/Faces/Val/Me')\n",
        "  else:\n",
        "    shutil.move(face[i], '/tmp/Faces/Test/Me')\n",
        "  i += 1\n",
        "\n",
        "face = []\n",
        "for picture in listdir(path + 'NotMe'):\n",
        "  img = (path + 'NotMe/' + picture)\n",
        "  face.append(img)\n",
        "random.shuffle(face)\n",
        "\n",
        "i = 0\n",
        "for pic in face:\n",
        "  if i < (len(face) * 0.7):\n",
        "    shutil.move(face[i], '/tmp/Faces/Train/NotMe')\n",
        "  elif i < (len(face)* 0.9):\n",
        "    shutil.move(face[i], '/tmp/Faces/Val/NotMe')\n",
        "  else:\n",
        "    shutil.move(face[i], '/tmp/Faces/Test/NotMe')\n",
        "  i += 1"
      ],
      "metadata": {
        "id": "C9TGrdxbN5tx"
      },
      "execution_count": null,
      "outputs": []
    },
    {
      "cell_type": "markdown",
      "source": [
        "Read in Training, Validation, and Test data"
      ],
      "metadata": {
        "id": "IaY49Tdo28mm"
      }
    },
    {
      "cell_type": "code",
      "source": [
        "batch_size = 32\n",
        "img_height = 256\n",
        "img_width = 256"
      ],
      "metadata": {
        "id": "Fq0w4UZXdhGP"
      },
      "execution_count": null,
      "outputs": []
    },
    {
      "cell_type": "code",
      "source": [
        "train_ds = tf.keras.utils.image_dataset_from_directory(\n",
        "  '/content/drive/MyDrive/GradSchool/DeepLearning/Project/Take2/FacesSplit/Train/',\n",
        "  image_size=(img_height, img_width),\n",
        "  batch_size = batch_size)"
      ],
      "metadata": {
        "colab": {
          "base_uri": "https://localhost:8080/"
        },
        "id": "Zxs1PpmVSGbd",
        "outputId": "69dd1924-5b9b-40d7-89a5-f1265f215672"
      },
      "execution_count": null,
      "outputs": [
        {
          "output_type": "stream",
          "name": "stdout",
          "text": [
            "Found 1248 files belonging to 2 classes.\n"
          ]
        }
      ]
    },
    {
      "cell_type": "code",
      "source": [
        "valid_ds = tf.keras.utils.image_dataset_from_directory(\n",
        "  '/content/drive/MyDrive/GradSchool/DeepLearning/Project/Take2/FacesSplit/Val/',\n",
        "  image_size=(img_height, img_width),\n",
        "  batch_size = batch_size)"
      ],
      "metadata": {
        "colab": {
          "base_uri": "https://localhost:8080/"
        },
        "id": "hPJQeIn3SHUg",
        "outputId": "a7d7c87e-fba1-450c-c273-6bdfacea0bbf"
      },
      "execution_count": null,
      "outputs": [
        {
          "output_type": "stream",
          "name": "stdout",
          "text": [
            "Found 350 files belonging to 2 classes.\n"
          ]
        }
      ]
    },
    {
      "cell_type": "code",
      "source": [
        "test_ds = tf.keras.utils.image_dataset_from_directory(\n",
        "  '/content/drive/MyDrive/GradSchool/DeepLearning/Project/Take2/FacesSplit/Test/',\n",
        "  image_size=(img_height, img_width),\n",
        "  batch_size = batch_size)"
      ],
      "metadata": {
        "colab": {
          "base_uri": "https://localhost:8080/"
        },
        "id": "_ujY2MIvSH-8",
        "outputId": "e5adb8e8-d0f1-4334-b377-ce3e8dc4be21"
      },
      "execution_count": null,
      "outputs": [
        {
          "output_type": "stream",
          "name": "stdout",
          "text": [
            "Found 176 files belonging to 2 classes.\n"
          ]
        }
      ]
    },
    {
      "cell_type": "markdown",
      "source": [
        "### Model Creation"
      ],
      "metadata": {
        "id": "x_yvjGpe2djX"
      }
    },
    {
      "cell_type": "code",
      "source": [
        "inputs = keras.Input(shape=(img_height, img_width, 3))\n",
        "x0 = layers.Rescaling(1./255)(inputs)\n",
        "x0 = layers.Conv2D(filters=32, kernel_size=3, activation=\"relu\") (x0)\n",
        "x0 = layers.MaxPooling2D(pool_size=2)(x0)\n",
        "x0 = layers.Conv2D(filters=8, kernel_size=3, activation=\"relu\")(x0)\n",
        "x0 =layers.MaxPooling2D(pool_size=2)(x0)\n",
        "x0 = layers.Conv2D(filters=4, kernel_size=3, activation=\"relu\")(x0)\n",
        "x0 =layers.Flatten()(x0)\n",
        "outputs = layers.Dense(1, activation=\"sigmoid\")(x0)\n",
        "model0 = keras.Model(inputs=inputs, outputs=outputs)"
      ],
      "metadata": {
        "id": "1fkKP1_KYMbR"
      },
      "execution_count": null,
      "outputs": []
    },
    {
      "cell_type": "code",
      "source": [
        "inputs = keras.Input(shape=(img_height, img_width, 3))\n",
        "x1 = layers.Rescaling(1./255)(inputs)\n",
        "\n",
        "x1 = layers.BatchNormalization() (x1)\n",
        "x1 = layers.Conv2D(filters = 4, kernel_size = 3, activation = 'relu', padding='same')(x1)\n",
        "x1 = layers.Dropout(rate=0.4)(x1)\n",
        "x1 = layers.Conv2D(filters = 4, kernel_size = 3, activation = 'relu', padding='same')(x1)\n",
        "\n",
        "x1 = layers.Conv2D(filters=32, kernel_size=3, activation=\"relu\") (x1)\n",
        "x1 = layers.MaxPooling2D(pool_size=2)(x1)\n",
        "x1 = layers.Conv2D(filters=8, kernel_size=3, activation=\"relu\")(x1)\n",
        "x1 =layers.MaxPooling2D(pool_size=2)(x1)\n",
        "x1 = layers.Conv2D(filters=4, kernel_size=3, activation=\"relu\")(x1)\n",
        "x1 =layers.Flatten()(x1)\n",
        "outputs = layers.Dense(1, activation=\"sigmoid\")(x1)\n",
        "model1 = keras.Model(inputs=inputs, outputs=outputs)"
      ],
      "metadata": {
        "id": "85sP12cOWWRJ"
      },
      "execution_count": null,
      "outputs": []
    },
    {
      "cell_type": "code",
      "source": [
        "inputs = keras.Input(shape=(img_height, img_width, 3))\n",
        "x2 = layers.Rescaling(1./255)(inputs)\n",
        "x2 = layers.Conv2D(filters=32, kernel_size=3, activation=\"relu\") (x2)\n",
        "x2 = layers.MaxPooling2D(pool_size=2)(x2)\n",
        "x2 = layers.Conv2D(filters=8, kernel_size=3, activation=\"relu\")(x2)\n",
        "x2 =layers.MaxPooling2D(pool_size=2)(x2)\n",
        "x2 = layers.Conv2D(filters=4, kernel_size=3, activation=\"relu\")(x2)\n",
        "x2 =layers.Flatten()(x2)\n",
        "\n",
        "x2 = layers.Dense(8, activation=\"relu\")(x2)\n",
        "\n",
        "outputs = layers.Dense(1, activation=\"sigmoid\")(x2)\n",
        "model2 = keras.Model(inputs=inputs, outputs=outputs)"
      ],
      "metadata": {
        "id": "7_W8n7hhWWpC"
      },
      "execution_count": null,
      "outputs": []
    },
    {
      "cell_type": "code",
      "source": [
        "inputs = keras.Input(shape=(img_height, img_width, 3))\n",
        "x3 = layers.Rescaling(1./255)(inputs)\n",
        "x3 = layers.Conv2D(filters=32, kernel_size=3, activation=\"relu\")(x3)\n",
        "x3 =layers.MaxPooling2D(pool_size=2)(x3)\n",
        "x3 = layers.Conv2D(filters=16, kernel_size=3, activation=\"relu\")(x3)\n",
        "x3 =layers.MaxPooling2D(pool_size=2)(x3)\n",
        "x3 = layers.Conv2D(filters=4, kernel_size=3, activation=\"relu\")(x3)\n",
        "x3 =layers.MaxPooling2D(pool_size=2)(x3)\n",
        "x3 = layers.Conv2D(filters=4, kernel_size=3, activation=\"relu\")(x3)\n",
        "x3 =layers.Flatten()(x3)\n",
        "outputs = layers.Dense(1, activation=\"sigmoid\")(x3)\n",
        "model3 = keras.Model(inputs=inputs, outputs=outputs)"
      ],
      "metadata": {
        "id": "tiqsKefDWW1x"
      },
      "execution_count": null,
      "outputs": []
    },
    {
      "cell_type": "code",
      "source": [
        "inputs = keras.Input(shape=(img_height, img_width, 3))\n",
        "x4 = layers.Rescaling(1./255)(inputs)\n",
        "\n",
        "x4 = layers.BatchNormalization() (x4)\n",
        "x4 = layers.Conv2D(filters = 4, kernel_size = 3, activation = 'relu', padding='same')(x4)\n",
        "x4 = layers.Dropout(rate=0.4)(x4)\n",
        "x4 = layers.Conv2D(filters = 4, kernel_size = 3, activation = 'relu', padding='same')(x4)\n",
        "\n",
        "x4 = layers.Conv2D(filters=32, kernel_size=3, activation=\"relu\")(x4)\n",
        "x4 =layers.MaxPooling2D(pool_size=2)(x4)\n",
        "x4 = layers.Conv2D(filters=16, kernel_size=3, activation=\"relu\")(x4)\n",
        "x4 =layers.MaxPooling2D(pool_size=2)(x4)\n",
        "x4 = layers.Conv2D(filters=4, kernel_size=3, activation=\"relu\")(x4)\n",
        "x4 =layers.MaxPooling2D(pool_size=2)(x4)\n",
        "x4 = layers.Conv2D(filters=4, kernel_size=3, activation=\"relu\")(x4)\n",
        "x4 =layers.Flatten()(x4)\n",
        "outputs = layers.Dense(1, activation=\"sigmoid\")(x4)\n",
        "model4 = keras.Model(inputs=inputs, outputs=outputs)"
      ],
      "metadata": {
        "id": "FVK7SumPWXaF"
      },
      "execution_count": null,
      "outputs": []
    },
    {
      "cell_type": "code",
      "source": [
        "inputs = keras.Input(shape=(img_height, img_width, 3))\n",
        "x5 = layers.Rescaling(1./255)(inputs)\n",
        "x5 = layers.Conv2D(filters=32, kernel_size=3, activation=\"relu\")(x5)\n",
        "x5 =layers.MaxPooling2D(pool_size=2)(x5)\n",
        "x5 = layers.Conv2D(filters=16, kernel_size=3, activation=\"relu\")(x5)\n",
        "x5 =layers.MaxPooling2D(pool_size=2)(x5)\n",
        "x5 = layers.Conv2D(filters=4, kernel_size=3, activation=\"relu\")(x5)\n",
        "x5 =layers.MaxPooling2D(pool_size=2)(x5)\n",
        "x5 = layers.Conv2D(filters=4, kernel_size=3, activation=\"relu\")(x5)\n",
        "x5 =layers.Flatten()(x5)\n",
        "\n",
        "x5 = layers.Dense(8, activation=\"relu\")(x5)\n",
        "\n",
        "outputs = layers.Dense(1, activation=\"sigmoid\")(x5)\n",
        "model5 = keras.Model(inputs=inputs, outputs=outputs)"
      ],
      "metadata": {
        "id": "1E6xga9IWXrE"
      },
      "execution_count": null,
      "outputs": []
    },
    {
      "cell_type": "code",
      "source": [
        "model0.compile(loss=\"binary_crossentropy\", optimizer=\"adam\", metrics=[\"accuracy\"])\n",
        "model1.compile(loss=\"binary_crossentropy\", optimizer=\"adam\", metrics=[\"accuracy\"])\n",
        "model2.compile(loss=\"binary_crossentropy\", optimizer=\"adam\", metrics=[\"accuracy\"])\n",
        "model3.compile(loss=\"binary_crossentropy\", optimizer=\"adam\", metrics=[\"accuracy\"])\n",
        "model4.compile(loss=\"binary_crossentropy\", optimizer=\"adam\", metrics=[\"accuracy\"])\n",
        "model5.compile(loss=\"binary_crossentropy\", optimizer=\"adam\", metrics=[\"accuracy\"])"
      ],
      "metadata": {
        "id": "Cx82JdwPWwQ9"
      },
      "execution_count": null,
      "outputs": []
    },
    {
      "cell_type": "markdown",
      "source": [
        "### Model Training"
      ],
      "metadata": {
        "id": "moQYP0Sk2g6y"
      }
    },
    {
      "cell_type": "code",
      "source": [
        "filepath0=\"weights0-improvement-{epoch:02d}-{val_loss:.2f}.hdf5\"\n",
        "filepath1=\"weights1-improvement-{epoch:02d}-{val_loss:.2f}.hdf5\"\n",
        "filepath2=\"weights2-improvement-{epoch:02d}-{val_loss:.2f}.hdf5\"\n",
        "filepath3=\"weights3-improvement-{epoch:02d}-{val_loss:.2f}.hdf5\"\n",
        "filepath4=\"weights4-improvement-{epoch:02d}-{val_loss:.2f}.hdf5\"\n",
        "filepath5=\"weights5-improvement-{epoch:02d}-{val_loss:.2f}.hdf5\"\n",
        "checkpoint0 = ModelCheckpoint(filepath0, monitor='val_loss', verbose=1, save_best_only=True, mode='min')\n",
        "checkpoint1 = ModelCheckpoint(filepath1, monitor='val_loss', verbose=1, save_best_only=True, mode='min')\n",
        "checkpoint2 = ModelCheckpoint(filepath2, monitor='val_loss', verbose=1, save_best_only=True, mode='min')\n",
        "checkpoint3 = ModelCheckpoint(filepath3, monitor='val_loss', verbose=1, save_best_only=True, mode='min')\n",
        "checkpoint4 = ModelCheckpoint(filepath4, monitor='val_loss', verbose=1, save_best_only=True, mode='min')\n",
        "checkpoint5 = ModelCheckpoint(filepath5, monitor='val_loss', verbose=1, save_best_only=True, mode='min')\n",
        "\n",
        "earlyStop = tf.keras.callbacks.EarlyStopping(monitor='val_loss', patience=32)"
      ],
      "metadata": {
        "id": "FGxuW6saYFL5"
      },
      "execution_count": null,
      "outputs": []
    },
    {
      "cell_type": "code",
      "source": [
        "history0 = model0.fit(train_ds, validation_data = valid_ds, epochs = 128, batch_size=16, callbacks=[checkpoint0, earlyStop])\n",
        "history1 = model1.fit(train_ds, validation_data = valid_ds, epochs = 128, batch_size=16, callbacks=[checkpoint1, earlyStop])\n",
        "history2 = model2.fit(train_ds, validation_data = valid_ds, epochs = 128, batch_size=16, callbacks=[checkpoint2, earlyStop])\n",
        "history3 = model3.fit(train_ds, validation_data = valid_ds, epochs = 128, batch_size=16, callbacks=[checkpoint3, earlyStop])\n",
        "history4 = model4.fit(train_ds, validation_data = valid_ds, epochs = 128, batch_size=16, callbacks=[checkpoint4, earlyStop])\n",
        "history5 = model5.fit(train_ds, validation_data = valid_ds, epochs = 128, batch_size=16, callbacks=[checkpoint5, earlyStop])"
      ],
      "metadata": {
        "id": "QVGjqJ7zedmb"
      },
      "execution_count": null,
      "outputs": []
    },
    {
      "cell_type": "markdown",
      "source": [
        "### Model Evaluation"
      ],
      "metadata": {
        "id": "NLdXpNi42i9f"
      }
    },
    {
      "cell_type": "code",
      "source": [
        "models = [model0, model1, model2, model3, model4, model5]"
      ],
      "metadata": {
        "id": "VNk5Td3Sd79-"
      },
      "execution_count": null,
      "outputs": []
    },
    {
      "cell_type": "code",
      "source": [
        "i = 0\n",
        "for model in models:\n",
        "  trainableParams = np.sum([np.prod(v.get_shape()) for v in model.trainable_weights])\n",
        "  nonTrainableParams = np.sum([np.prod(v.get_shape()) for v in model.non_trainable_weights])\n",
        "  totalParams = trainableParams + nonTrainableParams\n",
        "  print(\"Number of Parameters in Model\", i, \":\", int(totalParams))\n",
        "  i += 1"
      ],
      "metadata": {
        "colab": {
          "base_uri": "https://localhost:8080/"
        },
        "id": "p7rT_Stnd-DT",
        "outputId": "9b6fb294-117a-4805-dbf1-0ba1f07b06df"
      },
      "execution_count": null,
      "outputs": [
        {
          "output_type": "stream",
          "name": "stdout",
          "text": [
            "Number of Parameters in Model 0 : 17901\n",
            "Number of Parameters in Model 1 : 18461\n",
            "Number of Parameters in Model 2 : 118717\n",
            "Number of Parameters in Model 3 : 9385\n",
            "Number of Parameters in Model 4 : 9945\n",
            "Number of Parameters in Model 5 : 31353\n"
          ]
        }
      ]
    },
    {
      "cell_type": "markdown",
      "source": [
        "#### Evaluation Functions"
      ],
      "metadata": {
        "id": "Xjv8F-h12l-W"
      }
    },
    {
      "cell_type": "code",
      "source": [
        "def learning_curve (history):\n",
        "  fig, axs = plt.subplots(1, 2, constrained_layout= True)\n",
        "  axs[0].set_ylim(-0.1, 1.10)\n",
        "  axs[1].set_ylim(-0.1, 1.10)\n",
        "  fig.suptitle('Training Performance')\n",
        "  axs[0].plot(history.history['accuracy'], label='Training Accuracy') \n",
        "  axs[0].plot(history.history['val_accuracy'], label='Validation Accuracy')\n",
        "  axs[0].legend()\n",
        "  axs[0].set_title('Accuracy')\n",
        "  axs[0].set_ylabel('Accuracy')\n",
        "  axs[0].set_xlabel('Epoch')\n",
        "\n",
        "  axs[1].plot(history.history['loss'], label='Training Loss')\n",
        "  axs[1].plot(history.history['val_loss'], label = 'Validation Loss')\n",
        "  axs[1].legend()\n",
        "  axs[1].set_title('Loss')\n",
        "  axs[1].set_ylabel('Loss')\n",
        "  axs[1].set_xlabel('Epoch')\n",
        "  plt.show()"
      ],
      "metadata": {
        "id": "aOjv5PQSZHJ6"
      },
      "execution_count": null,
      "outputs": []
    },
    {
      "cell_type": "code",
      "source": [
        "def model_accuracy (X, Y, model, prediction):\n",
        "  print(\"Test Data Results:\")\n",
        "  scores = model.evaluate(X, Y)\n",
        "  for i in range(len(scores)):\n",
        "    print(\"%s: %.3f%%\" % (model.metrics_names[i], scores[i]*100))\n",
        "\n",
        "  accuracy = accuracy_score(Y, prediction.round()) * 100\n",
        "  precision = precision_score(Y, prediction.round()) * 100\n",
        "  recall = recall_score(Y, prediction.round()) * 100\n",
        "  f1score = f1_score(Y, prediction.round())\n",
        "  \n",
        "  print(\"Accuracy Score: %.6s%%\" % (accuracy))\n",
        "  print(\"Precision Score: %.6s%%\" % (precision))\n",
        "  print(\"Recall Score: %.6s%%\" % (recall))\n",
        "  print(\"F1 Score: %.6s\" % (f1score))"
      ],
      "metadata": {
        "id": "GnvCni9LZJAO"
      },
      "execution_count": null,
      "outputs": []
    },
    {
      "cell_type": "markdown",
      "source": [
        "#### Evaluation Results"
      ],
      "metadata": {
        "id": "Lfl6ZhqK2qFm"
      }
    },
    {
      "cell_type": "code",
      "source": [
        "#batch size must be the entire test set\n",
        "X_Length = 176\n",
        "\n",
        "batch_size = X_Length\n",
        "img_height = 256\n",
        "img_width = 256\n",
        "eval_ds = tf.keras.utils.image_dataset_from_directory(\n",
        "  '/content/drive/MyDrive/GradSchool/DeepLearning/Project/Take2/FacesSplit/Test/',\n",
        "  seed=123,\n",
        "  image_size=(img_height, img_width),\n",
        "  batch_size = batch_size)\n",
        "\n",
        "for images, labels in eval_ds.take(1):\n",
        "  xtest = images.numpy()\n",
        "  ytest = labels.numpy()\n",
        "print(ytest.shape)\n",
        "print(xtest.shape)"
      ],
      "metadata": {
        "colab": {
          "base_uri": "https://localhost:8080/"
        },
        "id": "s24p54DmavdT",
        "outputId": "641188a5-d68d-4ad3-98c0-a123755e9304"
      },
      "execution_count": null,
      "outputs": [
        {
          "output_type": "stream",
          "name": "stdout",
          "text": [
            "Found 176 files belonging to 2 classes.\n",
            "(176,)\n",
            "(176, 256, 256, 3)\n"
          ]
        }
      ]
    },
    {
      "cell_type": "code",
      "source": [
        "prediction = model0.predict(xtest)\n",
        "print(\"Model0:\")\n",
        "model_accuracy(xtest, ytest, model0, prediction)\n",
        "learning_curve(history0)"
      ],
      "metadata": {
        "colab": {
          "base_uri": "https://localhost:8080/",
          "height": 477
        },
        "id": "f2ksRR2WZMSx",
        "outputId": "4596ab81-6514-4b89-f799-87dca8c93ed4"
      },
      "execution_count": null,
      "outputs": [
        {
          "output_type": "stream",
          "name": "stdout",
          "text": [
            "Model0:\n",
            "Test Data Results:\n",
            "6/6 [==============================] - 0s 13ms/step - loss: 0.1112 - accuracy: 0.9830\n",
            "loss: 11.118%\n",
            "accuracy: 98.295%\n",
            "Accuracy Score: 98.295%\n",
            "Precision Score: 98.4%\n",
            "Recall Score: 99.193%\n",
            "F1 Score: 0.9879\n"
          ]
        },
        {
          "output_type": "display_data",
          "data": {
            "image/png": "[encoded data removed]",
            "text/plain": [
              "<Figure size 432x288 with 2 Axes>"
            ]
          },
          "metadata": {
            "needs_background": "light"
          }
        }
      ]
    },
    {
      "cell_type": "code",
      "source": [
        "prediction = model1.predict(xtest)\n",
        "print(\"Model1:\")\n",
        "model_accuracy(xtest, ytest, model1, prediction)\n",
        "learning_curve(history1)"
      ],
      "metadata": {
        "colab": {
          "base_uri": "https://localhost:8080/",
          "height": 477
        },
        "id": "WwbqSMOEZMpx",
        "outputId": "c464f8d5-b673-4850-dfb7-eaada9ed8f7a"
      },
      "execution_count": null,
      "outputs": [
        {
          "output_type": "stream",
          "name": "stdout",
          "text": [
            "Model1:\n",
            "Test Data Results:\n",
            "6/6 [==============================] - 0s 15ms/step - loss: 0.3126 - accuracy: 0.9261\n",
            "loss: 31.257%\n",
            "accuracy: 92.614%\n",
            "Accuracy Score: 92.613%\n",
            "Precision Score: 97.435%\n",
            "Recall Score: 91.935%\n",
            "F1 Score: 0.9460\n"
          ]
        },
        {
          "output_type": "display_data",
          "data": {
            "image/png": "[encoded data removed]",
            "text/plain": [
              "<Figure size 432x288 with 2 Axes>"
            ]
          },
          "metadata": {
            "needs_background": "light"
          }
        }
      ]
    },
    {
      "cell_type": "code",
      "source": [
        "prediction = model2.predict(xtest)\n",
        "print(\"Model2:\")\n",
        "model_accuracy(xtest, ytest, model2, prediction)\n",
        "learning_curve(history2)"
      ],
      "metadata": {
        "colab": {
          "base_uri": "https://localhost:8080/",
          "height": 477
        },
        "id": "amh5k0ETZM4x",
        "outputId": "3c5814dd-4fa8-4386-d061-80b415837160"
      },
      "execution_count": null,
      "outputs": [
        {
          "output_type": "stream",
          "name": "stdout",
          "text": [
            "Model2:\n",
            "Test Data Results:\n",
            "6/6 [==============================] - 0s 12ms/step - loss: 0.1428 - accuracy: 0.9773\n",
            "loss: 14.281%\n",
            "accuracy: 97.727%\n",
            "Accuracy Score: 97.727%\n",
            "Precision Score: 96.875%\n",
            "Recall Score: 100.0%\n",
            "F1 Score: 0.9841\n"
          ]
        },
        {
          "output_type": "display_data",
          "data": {
            "image/png": "[encoded data removed]",
            "text/plain": [
              "<Figure size 432x288 with 2 Axes>"
            ]
          },
          "metadata": {
            "needs_background": "light"
          }
        }
      ]
    },
    {
      "cell_type": "code",
      "source": [
        "prediction = model3.predict(xtest)\n",
        "print(\"Model3:\")\n",
        "model_accuracy(xtest, ytest, model3, prediction)\n",
        "learning_curve(history3)"
      ],
      "metadata": {
        "colab": {
          "base_uri": "https://localhost:8080/",
          "height": 477
        },
        "id": "Y-jqynk8ZNG0",
        "outputId": "4713d953-4c60-4f5f-93f3-4565cf5da4fe"
      },
      "execution_count": null,
      "outputs": [
        {
          "output_type": "stream",
          "name": "stdout",
          "text": [
            "Model3:\n",
            "Test Data Results:\n",
            "6/6 [==============================] - 0s 13ms/step - loss: 0.0475 - accuracy: 0.9830\n",
            "loss: 4.751%\n",
            "accuracy: 98.295%\n",
            "Accuracy Score: 98.295%\n",
            "Precision Score: 99.186%\n",
            "Recall Score: 98.387%\n",
            "F1 Score: 0.9878\n"
          ]
        },
        {
          "output_type": "display_data",
          "data": {
            "image/png": "[encoded data removed]",
            "text/plain": [
              "<Figure size 432x288 with 2 Axes>"
            ]
          },
          "metadata": {
            "needs_background": "light"
          }
        }
      ]
    },
    {
      "cell_type": "code",
      "source": [
        "prediction = model4.predict(xtest)\n",
        "print(\"Model4:\")\n",
        "model_accuracy(xtest, ytest, model4, prediction)\n",
        "learning_curve(history4)"
      ],
      "metadata": {
        "colab": {
          "base_uri": "https://localhost:8080/",
          "height": 477
        },
        "id": "9hzPIJN4ZNel",
        "outputId": "efb277e3-f861-41e8-99d9-c8718a3dbfbe"
      },
      "execution_count": null,
      "outputs": [
        {
          "output_type": "stream",
          "name": "stdout",
          "text": [
            "Model4:\n",
            "Test Data Results:\n",
            "6/6 [==============================] - 0s 15ms/step - loss: 0.0863 - accuracy: 0.9602\n",
            "loss: 8.625%\n",
            "accuracy: 96.023%\n",
            "Accuracy Score: 96.022%\n",
            "Precision Score: 96.062%\n",
            "Recall Score: 98.387%\n",
            "F1 Score: 0.9721\n"
          ]
        },
        {
          "output_type": "display_data",
          "data": {
            "image/png": "[encoded data removed]",
            "text/plain": [
              "<Figure size 432x288 with 2 Axes>"
            ]
          },
          "metadata": {
            "needs_background": "light"
          }
        }
      ]
    },
    {
      "cell_type": "code",
      "source": [
        "prediction = model5.predict(xtest)\n",
        "print(\"Model5:\")\n",
        "model_accuracy(xtest, ytest, model5, prediction)\n",
        "learning_curve(history5)"
      ],
      "metadata": {
        "colab": {
          "base_uri": "https://localhost:8080/",
          "height": 477
        },
        "id": "uEZU-ZwWZNs5",
        "outputId": "fe2860af-b56f-48d2-a9a4-b9ce906d1738"
      },
      "execution_count": null,
      "outputs": [
        {
          "output_type": "stream",
          "name": "stdout",
          "text": [
            "Model5:\n",
            "Test Data Results:\n",
            "6/6 [==============================] - 0s 15ms/step - loss: 0.0100 - accuracy: 0.9943\n",
            "loss: 1.004%\n",
            "accuracy: 99.432%\n",
            "Accuracy Score: 99.431%\n",
            "Precision Score: 99.2%\n",
            "Recall Score: 100.0%\n",
            "F1 Score: 0.9959\n"
          ]
        },
        {
          "output_type": "display_data",
          "data": {
            "image/png": "[encoded data removed]",
            "text/plain": [
              "<Figure size 432x288 with 2 Axes>"
            ]
          },
          "metadata": {
            "needs_background": "light"
          }
        }
      ]
    },
    {
      "cell_type": "code",
      "source": [
        "%%shell\n",
        "jupyter nbconvert --to html /content/Phase3.ipynb"
      ],
      "metadata": {
        "colab": {
          "base_uri": "https://localhost:8080/"
        },
        "id": "mdfCSw2zm5yH",
        "outputId": "b4dcd7eb-e808-4d19-e152-80fc475a4eb8"
      },
      "execution_count": null,
      "outputs": [
        {
          "output_type": "stream",
          "name": "stdout",
          "text": [
            "[NbConvertApp] Converting notebook /content/Phase3.ipynb to html\n",
            "[NbConvertApp] Writing 520107 bytes to /content/Phase3.html\n"
          ]
        },
        {
          "output_type": "execute_result",
          "data": {
            "text/plain": [
              ""
            ]
          },
          "metadata": {},
          "execution_count": 30
        }
      ]
    }
  ]
}